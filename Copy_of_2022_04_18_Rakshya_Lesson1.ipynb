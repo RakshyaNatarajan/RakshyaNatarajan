{
  "nbformat": 4,
  "nbformat_minor": 0,
  "metadata": {
    "colab": {
      "name": "Copy of 2022-04-18-Rakshya_Lesson1",
      "provenance": [],
      "collapsed_sections": [],
      "include_colab_link": true
    },
    "kernelspec": {
      "name": "python3",
      "display_name": "Python 3"
    }
  },
  "cells": [
    {
      "cell_type": "markdown",
      "metadata": {
        "id": "view-in-github",
        "colab_type": "text"
      },
      "source": [
        "<a href=\"https://colab.research.google.com/github/RakshyaNatarajan/RakshyaNatarajan/blob/main/Copy_of_2022_04_18_Rakshya_Lesson1.ipynb\" target=\"_parent\"><img src=\"https://colab.research.google.com/assets/colab-badge.svg\" alt=\"Open In Colab\"/></a>"
      ]
    },
    {
      "cell_type": "markdown",
      "metadata": {
        "id": "mFDyd3uB4WBx"
      },
      "source": [
        "# Lesson 1: Mind Reader Game - Variables & Data-Types\n"
      ]
    },
    {
      "cell_type": "markdown",
      "metadata": {
        "id": "xO2AIGEEJVeF"
      },
      "source": [
        "---"
      ]
    },
    {
      "cell_type": "markdown",
      "metadata": {
        "id": "WJXv7RiDiUrX"
      },
      "source": [
        "#### ${ {\\textrm{Mind Reading Game}}}$\n",
        "**Follow these instructions:**\n",
        "\n",
        "<img src=\"https://curriculum.whitehatjr.com/APT+Asset/APT+C1+storyboard+images/APPT+C1+Lesson+1-16+(2).png\" />\n",
        "\n",
        "<img src=\"https://curriculum.whitehatjr.com/APT+Asset/APT+C1+storyboard+images/APPT+C1+Lesson+1-17+(1).png\" />\n",
        "\n",
        "<img src=\"https://curriculum.whitehatjr.com/APT+Asset/APT+C1+storyboard+images/APPT+C1+Lesson+1-19+(1).png\" />\n",
        "\n",
        "<img src=\"https://curriculum.whitehatjr.com/APT+Asset/APT+C1+storyboard+images/APPT+C1+Lesson+1-20+(1).png\" />\n",
        "\n",
        "<img src=\"https://curriculum.whitehatjr.com/APT+Asset/APT+C1+storyboard+images/APPT+C1+Lesson+1-24.png\" />\n"
      ]
    },
    {
      "cell_type": "markdown",
      "metadata": {
        "id": "NBFdjp7Vw8yD"
      },
      "source": [
        "---\n"
      ]
    },
    {
      "cell_type": "markdown",
      "metadata": {
        "id": "ju-PcQGWqB04"
      },
      "source": [
        "#### ${ {\\textrm{AI Based Mind Reader Game}}}$\n",
        "\n",
        "\n",
        "https://mindreader.whitehatjr.com/\n",
        "\n",
        "<br/>\n",
        "\n",
        "\n",
        "<img src=\"https://curriculum.whitehatjr.com/APT+Asset/Final+C1+images/prediction2.gif\" height=440/> </center>\n",
        "\n",
        "\n",
        "**How does the AI BOT or COMPUTER predict your move?**\n",
        "\n",
        "<center>\n",
        "<img src=\"https://curriculum.whitehatjr.com/APT+Asset/Final+C1+images/pattern3.png\"/> </center>\n",
        "\n",
        "Let's start creating a similar Mind Reader Game.\n",
        "\n"
      ]
    },
    {
      "cell_type": "markdown",
      "metadata": {
        "id": "hrKpNFkayKhG"
      },
      "source": [
        "---"
      ]
    },
    {
      "cell_type": "markdown",
      "metadata": {
        "id": "2mRs675tV9i8"
      },
      "source": [
        "#### In Today's Class...\n",
        "\n",
        "\n",
        "\n",
        "\n",
        "\n",
        "<img src=\"https://curriculum.whitehatjr.com/APT+Asset/Final+C1+images/mind3.PNG\" />\n",
        "\n",
        "\n",
        "In case of the Mind Reader game, we want the computer to **randomly** predict the player's inputs.\n",
        "\n",
        "Therefore, the very simple version of the Mind Reader game algorithm should implement the following steps:\n",
        "\n",
        "<center><img src=\"https://curriculum.whitehatjr.com/APT+Asset/Final+C1+images/new_mind.gif\" height=400/></center>\n",
        "\n",
        "\n",
        "\n",
        "\n",
        "After following the above four steps, we should get the following algorithm:\n",
        "\n",
        "```python\n",
        "import random\n",
        "\n",
        "player_input = input(\"Enter either 0 or 1: \")\n",
        "print(\"You entered\", player_input)\n",
        "predict = random.randint(0, 1)\n",
        "print(\"Computer predicted\", predict)\n",
        "```\n",
        "\n",
        "\n"
      ]
    },
    {
      "cell_type": "markdown",
      "metadata": {
        "id": "QEV4jQkV4MDR"
      },
      "source": [
        "---"
      ]
    },
    {
      "cell_type": "markdown",
      "metadata": {
        "id": "95EjFl8fYThf"
      },
      "source": [
        "#### Activity 1: The `print()` Function\n",
        "\n",
        "<img src=\"https://curriculum.whitehatjr.com/APT+Asset/Final+C1+images/final_juicer2.gif\" />\n",
        "\n",
        "\n",
        "-----\n",
        "\n",
        "Let's print `\"You entered\"` message using the `print()` function. The text `\"You entered\"` is an input to the `print()` function. The output would also be the same.\n",
        "\n",
        "When using the `print()` function, enclose the text that you need to print either in single-quotes (`''`) or in double-quotes (`\"\"`). \n",
        "\n",
        "To run the code, either click on the `Play` button on the left-hand side of the code cell or press the `shift` and `enter` keys together while you are active in the code cell."
      ]
    },
    {
      "cell_type": "code",
      "metadata": {
        "id": "LOuPp_5WVLKM",
        "colab": {
          "base_uri": "https://localhost:8080/"
        },
        "outputId": "f756342b-e386-4587-9931-b7c2d51d3ccf"
      },
      "source": [
        "# Teacher Action: Print \"You entered\" message to a player using the 'print()' function.\n",
        "print(\"Hi Rakshya\")"
      ],
      "execution_count": null,
      "outputs": [
        {
          "output_type": "stream",
          "name": "stdout",
          "text": [
            "Hi Rakshya\n"
          ]
        }
      ]
    },
    {
      "cell_type": "markdown",
      "metadata": {
        "id": "vKDJiweDwn2e"
      },
      "source": [
        "\n",
        "**NOTE:**\n",
        "<font color=\"red\"><ul><li>The text written after the hash (`#`) symbol is not a code. </li><li>Anything written after `#` is read as a plain text by Python. Such plain texts are called **comments** written by a coder to briefly explain the code. </li></font></ul>\n",
        "\n",
        "Now you print `\"Computer predicted\"` message using the `print()` function."
      ]
    },
    {
      "cell_type": "code",
      "metadata": {
        "id": "OUCYA-WXXDwd",
        "colab": {
          "base_uri": "https://localhost:8080/"
        },
        "outputId": "dc0f531a-dedc-4318-c08d-d03d4181e196"
      },
      "source": [
        "# Student Action: Print \"Computer predicted\" message to a player using the 'print()' function.\n",
        "print(\"computer predicted\")"
      ],
      "execution_count": null,
      "outputs": [
        {
          "output_type": "stream",
          "name": "stdout",
          "text": [
            "computer predicted\n"
          ]
        }
      ]
    },
    {
      "cell_type": "markdown",
      "metadata": {
        "id": "eC5-Kf5ne1ON"
      },
      "source": [
        "---"
      ]
    },
    {
      "cell_type": "markdown",
      "metadata": {
        "id": "Ww9Zh65UZ-M3"
      },
      "source": [
        "#### Activity 2: Variables And Data-Types^\n",
        "\n",
        "<img src=\"https://curriculum.whitehatjr.com/APT+Asset/Final+C1+images/var6.png\" />\n",
        "\n",
        "\n",
        "\n",
        "\n",
        "\n",
        "<br/>\n",
        "\n",
        "**What are data-types in Python?**\n",
        "\n",
        "<center>\n",
        "<img src=\"https://curriculum.whitehatjr.com/APT+Asset/APT+C1+storyboard+images/data types.PNG\" /></center>\n",
        "\n",
        "\n",
        "**NOTE:**\n",
        "<font color=\"red\">\n",
        "<ol><li>The `T` in `True` and `F` in `False` must be capital because Python is case-sensitive.</li>\n",
        "\n",
        "<li> A variable can store only one value at a time.</li>\n",
        "</font></ol>\n",
        "\n",
        "Now, let's practice Python variables by storing the various information about Mercury and Saturn planets in variables.\n",
        "\n",
        "<center>\n",
        "<img src=\"https://curriculum.whitehatjr.com/APT+Asset/Final+C1+images/boy_reading.png\" />\n"
      ]
    },
    {
      "cell_type": "code",
      "metadata": {
        "id": "h-abfjmcA1c6"
      },
      "source": [
        "# Teacher Action: Create 4 different variables and store the planet name, diameter, gravity and ring values of the first planet in the variables.\n",
        "# 1. Store a string value in a variable\n",
        "planet1_name = \"Mercury\"\n",
        "\n",
        "# 2. Store an integer value in a variable.\n",
        "planet1_dia = 4789\n",
        "\n",
        "# 3. Store a float-point number in a variable.\n",
        "planet1_gravity = 3.7\n",
        "\n",
        "# 4. Store a boolean value in a number.\n",
        "# Python can also store a boolean value, i.e., either True or False. \n",
        "# The 'Yes' or 'No' values are generally represented as True or False in Python. It cannot understand Yes or No.\n",
        "planet1_has_ring = False\n",
        "\n",
        "# If we run the code cell, we won't get any output. But the values will be assigned to these 4 variables."
      ],
      "execution_count": null,
      "outputs": []
    },
    {
      "cell_type": "markdown",
      "metadata": {
        "id": "ZAxW4fIcQPNn"
      },
      "source": [
        "So far we have stored 4 different types of values in 4 different variables. Now, let's print the values stored in these variables using the `print()` function."
      ]
    },
    {
      "cell_type": "code",
      "metadata": {
        "id": "YZWNWc9cQNLl",
        "colab": {
          "base_uri": "https://localhost:8080/"
        },
        "outputId": "b6348bc3-a676-4cfb-89d5-c5a996417593"
      },
      "source": [
        "# Print the values stored in all the 4 variables.\n",
        "print(planet1_name)\n",
        "print(planet1_dia)\n",
        "print(planet1_gravity)\n",
        "print(planet1_has_ring)"
      ],
      "execution_count": null,
      "outputs": [
        {
          "output_type": "stream",
          "name": "stdout",
          "text": [
            "Mercury\n",
            "4789\n",
            "3.7\n",
            "False\n"
          ]
        }
      ]
    },
    {
      "cell_type": "markdown",
      "metadata": {
        "id": "3KoCO6gacmav"
      },
      "source": [
        "As a good practice, name a variable in such a way that it reflects the nature of the value stored in it. In this case, the value that needs to be stored is the diameter of a planet. So, we have named a variable `planet1_dia` suggesting that the value stored in it is indeed the diameter of a planet.\n",
        "\n",
        "This is just a good practice. It is NOT compulsory to name a variable in this manner.  \n",
        "\n",
        "**NOTE:**\n",
        "\n",
        "<img src=\"https://curriculum.whitehatjr.com/APT+Asset/Final+C1+images/list_wrong_right.png\"/>\n",
        "\n",
        "\n",
        "\n",
        "\n",
        "Now, it's your turn to write the code."
      ]
    },
    {
      "cell_type": "code",
      "metadata": {
        "id": "oGvlD4fb7KGx",
        "colab": {
          "base_uri": "https://localhost:8080/"
        },
        "outputId": "5808ccfe-6408-4fe9-ccf0-852f410a3c2e"
      },
      "source": [
        "# Student Action: Create 4 different variables and store the planet name, diameter, gravity and ring values of the second planet in them.\n",
        "# 1. Create a variable and name it 'planet2_name'. Store the value \"Saturn\" in it.\n",
        "planet2_name = \"saturn\"\n",
        "# 2. Create a variable and name it 'planet2_dia'. Store the diameter value of Saturn in it.\n",
        "planet2_dia= 120536\n",
        "# 3. Create a variable and name it 'planet2_gravity. Store the gravity value of Saturn in it.\n",
        "planet2_gravity = 9.0\n",
        "# 4. Create a variable and name it 'planet2_has_ring'. Store True in it.\n",
        "planet2_has_ring = True\n",
        "# Print the values stored in all the 4 variables.\n",
        "print (planet2_name)\n",
        "print(planet2_dia)\n",
        "print(planet2_gravity)\n",
        "print(planet2_has_ring)"
      ],
      "execution_count": null,
      "outputs": [
        {
          "output_type": "stream",
          "name": "stdout",
          "text": [
            "saturn\n",
            "120536\n",
            "9.0\n",
            "True\n"
          ]
        }
      ]
    },
    {
      "cell_type": "markdown",
      "metadata": {
        "id": "ZFlx26pK8EPr"
      },
      "source": [
        "So in this way, we can store some information (or data) in a variable and print their values using the `print()` function.\n",
        "\n",
        "After the class, you can refer to the link provided in the **Activities** section under the title **NASA Planetary Fact Sheet** to get the most accurate facts about the planets in our solar system."
      ]
    },
    {
      "cell_type": "markdown",
      "metadata": {
        "id": "dN-Mc4dg7xvt"
      },
      "source": [
        "---"
      ]
    },
    {
      "cell_type": "markdown",
      "metadata": {
        "id": "9uje_j6zditR"
      },
      "source": [
        "#### Activity 3: The `input()` Function^^\n",
        "\n",
        "As part of the algorithm, the Mind Reader game needs to ask a player to enter either `0` or `1` where `0` denotes `Heads` and `1` denotes `Tails`.\n",
        " \n",
        "To take input from a user in Python, you can use another function called `input()`.\n",
        "<center>\n",
        "<img src=\"https://curriculum.whitehatjr.com/APT+Asset/Final+C1+images/user_input.png\"/>\n",
        "</center>\n",
        "\n",
        " Inside the `input()` function, you can also write a message to the player to display the message before taking the required input.\n",
        "\n",
        "**For Example:**\n",
        "\n",
        "<center>\n",
        "<img src=\"https://curriculum.whitehatjr.com/APT+Asset/Final+C1+images/input_new_ex.png\" /></center>\n",
        "\n",
        "Let's ask the player of the Mind Reader game to enter either `0` or `1` and store it in the `player_input` variable. \n",
        "\n",
        "Also, print the value stored in the `player_input` variable.\n",
        "\n"
      ]
    },
    {
      "cell_type": "code",
      "metadata": {
        "id": "-dpOB_mse2kx",
        "colab": {
          "base_uri": "https://localhost:8080/"
        },
        "outputId": "0e52e088-8b73-4521-ed55-ba03bf7885a4"
      },
      "source": [
        "# Teacher Action: Take input from a user and store it in the 'player_input' variable.\n",
        "player_input = input(\"Enter either 0 or 1;\")\n",
        "print(\"You entered\", player_input)"
      ],
      "execution_count": null,
      "outputs": [
        {
          "output_type": "stream",
          "name": "stdout",
          "text": [
            "Enter either 0 or 1;2\n",
            "You entered 2\n"
          ]
        }
      ]
    },
    {
      "cell_type": "markdown",
      "metadata": {
        "id": "dnqIGlzzeSda"
      },
      "source": [
        "Here, using the `print()` function, we printed a message `\"You entered\"` along with the value stored in the `player_input` variable. The message and the `player_input` are separated by a comma. \n",
        "\n",
        "*You can print multiple entities using the `print()` function by separating them with a comma.*\n",
        "\n",
        "Now, you ask a player to enter their name using the `input()` function,  display the `\"Enter your name: \"` message while taking the input and store the name entered by the player in the `player_name` variable. Then print the following message using the `print()` function.\n",
        "\n",
        "`\"Hello, player_name ! Welcome to the Mind Reader Game.\"` \n",
        "\n",
        "Where, `player_name` is the name entered by the player."
      ]
    },
    {
      "cell_type": "code",
      "metadata": {
        "id": "5LD6mU8GtwOK",
        "colab": {
          "base_uri": "https://localhost:8080/"
        },
        "outputId": "79351cc3-580d-4172-e4d6-e07542b9a272"
      },
      "source": [
        "# Student Action: Write a code to take input from a player and then print \"Hello, player_name ! Welcome to the Mind Reader Game\" message.\n",
        "# Create a variable and name it 'player_name'. Take input from the player using the 'input()' function.\n",
        "player_name = input(\"please enter your name:\")\n",
        "# Print \"Hello, player_name ! Welcome to the Mind Reader Game.\"\n",
        "print(\"Hello\",player_name,\"welcome to the mind Reader Game\")"
      ],
      "execution_count": null,
      "outputs": [
        {
          "output_type": "stream",
          "name": "stdout",
          "text": [
            "please enter your name:Rakshya\n",
            "Hello Rakshya welcome to the mind Reader Game\n"
          ]
        }
      ]
    },
    {
      "cell_type": "markdown",
      "metadata": {
        "id": "faTX4j4_nQCR"
      },
      "source": [
        "---"
      ]
    },
    {
      "cell_type": "markdown",
      "metadata": {
        "id": "NhWXS7kufHgs"
      },
      "source": [
        "#### Activity 4: Importing A Module\n",
        "\n",
        "So far we have completed the first two steps of creating the Mind Reader game algorithm, i.e.,  \n",
        "\n",
        "*   Taking an input from the player. \n",
        "*   Printing the input given by the player.\n",
        "\n",
        "```python\n",
        "player_input = input(\"Enter either 0 or 1: \")\n",
        "print(\"You entered\", player_input)\n",
        "```\n",
        "\n",
        "For the next step, we need the computer to predict `0` or `1` randomly where `0` denotes `Heads` and `1` denotes `Tails`. \n",
        "\n",
        "For this step, we need a function called `randint()` which returns a random integer between two integers. In our case, it must return either `0` or `1` randomly.\n",
        "\n",
        "However, we can't use this function directly like the `print()` and `input()` functions. We first need to import a module called `random`.\n",
        "\n",
        "Some functions in Python cannot be used directly. To use such a function, you first need to import a module in which that function exists and then use the required function. \n",
        "\n",
        "*For all practical purposes, a module is a collection of some special functions which are used occasionally.*\n",
        "\n",
        "<center>\n",
        "<img src=\"https://curriculum.whitehatjr.com/APT+Asset/Final+C2+images/module.png\"/>\n",
        "</center>\n",
        "\n",
        "\n",
        "\n",
        "The **syntax** for using a special function which exists in a module is\n",
        "\n",
        "`import module_name`    \n",
        "\n",
        "`module_name.function_name`\n",
        "\n",
        "**NOTE:** \n",
        "<font color=\"red\">\n",
        "<ol><li>\n",
        " A syntax is like a grammar of a programming language. It is a standard protocol that must be following while writing code.</li>\n",
        "\n",
        "<li>Always import a module at the very beginning in your code.</li> \n",
        "\n",
        "<li> A module needs to be imported only once. However, both the student and the teacher has to import a module at-least-once at their respective ends.</li>\n",
        "\n",
        "<li>The dot (`.`) operator is used to call a function from a module.</li>\n",
        "\n",
        "<li>Based on your requirements you can use the relevant modules which are listed on the official Python documentation. The link to the Python official documentation is provided in the <b>Activities</b> section under the title <b>Python Official Documentation</b>. </li></ol>\n",
        "\n",
        "</font>\n",
        "\n",
        "Let's try to generate a random number between `1` and `6` using the `randint()` function. It will return either `1, 2, 3, 4, 5,` or `6`. In case you have noticed, this is a simulation of a die roll.\n",
        "\n",
        "<center>\n",
        "<img src=\"https://curriculum.whitehatjr.com/APT+Asset/Final+C2+images/WHJ_dice_APT-C2.gif\"/></center>"
      ]
    },
    {
      "cell_type": "code",
      "metadata": {
        "id": "a4iQ512__59G",
        "colab": {
          "base_uri": "https://localhost:8080/"
        },
        "outputId": "e4734ed0-58a3-48d3-862f-0fad08e15c3d"
      },
      "source": [
        "# Teacher Action: Import the 'random' module to use the 'randint()' function to generate an integer between 1 and 6 randomly.\n",
        "import random\n",
        "die_roll = random.randint(10,100)\n",
        "print(die_roll)"
      ],
      "execution_count": null,
      "outputs": [
        {
          "output_type": "stream",
          "name": "stdout",
          "text": [
            "50\n"
          ]
        }
      ]
    },
    {
      "cell_type": "markdown",
      "metadata": {
        "id": "2O07tCjUu3BL"
      },
      "source": [
        "In the above code,\n",
        "\n",
        "- We have first imported the `random` module.\n",
        "\n",
        "- Then we have generated an integer between `1` and `6` and stored it in a variable called `die_roll`.\n",
        "\n",
        "- Then, we have printed the value stored in the `die_roll` variable using the `print()` function.\n",
        "\n",
        "<font color=red><b>You may get a different number as an output every time you run the above code. </b></font>\n",
        "\n",
        "Now, using the `randint()` function, you need to: \n",
        "\n",
        "1. Generate `0` or `1` randomly and store it in a variable called `predict`.\n",
        "\n",
        "2. Then, print the value stored in the `predict` variable using the `print()` function."
      ]
    },
    {
      "cell_type": "code",
      "metadata": {
        "id": "WIjr_zTyHxhQ",
        "colab": {
          "base_uri": "https://localhost:8080/"
        },
        "outputId": "e0bc03e0-74eb-4e8c-f790-21f50f1945b7"
      },
      "source": [
        "# Student Action: Using the 'randint()' function, generate 0 or 1 randomly.\n",
        "# 1. Import the 'random' module.\n",
        "import random\n",
        "# 2. Generate 0 or 1 randomly and then store the value obtained in the 'predict' variable.\n",
        "predict = random.randint(0,1)\n",
        "# 3. Print the value stored in the 'predict' variable.\n",
        "print(predict)"
      ],
      "execution_count": null,
      "outputs": [
        {
          "output_type": "stream",
          "name": "stdout",
          "text": [
            "1\n"
          ]
        }
      ]
    },
    {
      "cell_type": "markdown",
      "metadata": {
        "id": "9ed6iMjYvOtd"
      },
      "source": [
        "**NOTE:** <font color=red>We have to import a module just once before using its functions. We don't have to import it again and again.</font>"
      ]
    },
    {
      "cell_type": "markdown",
      "metadata": {
        "id": "cOTsGjXEAAlM"
      },
      "source": [
        "---"
      ]
    },
    {
      "cell_type": "markdown",
      "metadata": {
        "id": "yGBbg3WNveFT"
      },
      "source": [
        "#### Activity 5: A Very Simple Mind Reader Algorithm^^^\n",
        "\n",
        "Now, we have successfully completed all the steps of creating a very simple Mind Reader game algorithm. Let's put all the steps together in one place to run the algorithm.\n",
        "\n",
        "**We have to do the following:**\n",
        "\n",
        "<center>\n",
        "<img src=\"https://curriculum.whitehatjr.com/APT+Asset/Final+C1+images/coin_gif.gif\" /> </center>\n",
        "\n",
        "\n",
        "\n",
        "And voila! We have our algorithm ready."
      ]
    },
    {
      "cell_type": "code",
      "metadata": {
        "id": "yvas4G2yAKLJ",
        "colab": {
          "base_uri": "https://localhost:8080/"
        },
        "outputId": "ef8eeaa6-de60-4fce-ca2f-a81ded363ee6"
      },
      "source": [
        "# Student Action: Put all the steps of creating the Mind Reader game algorithm in one place to run it.\n",
        "# 1. Take input from the player using input() function.\n",
        "#    Create 'player_input' variable and store the input given by the player in it.\n",
        "player_input= input(\"enter either 0 or 1;\")\n",
        "\n",
        "# 2. Print the \"You entered\" message along with the value stored in the 'player_input' variable.\n",
        "print(\"you entered\",player_input)\n",
        "\n",
        "# 3. Create a variable called 'predict' and store the value returned by the 'randint(0, 1)' function inside the variable.\n",
        "predict = random.randint(0,1)\n",
        "\n",
        "# 4. Print the \"Computer predicted\" message along with the value stored in the 'predict' variable.\n",
        "print(\"computer predicted\",predict)"
      ],
      "execution_count": null,
      "outputs": [
        {
          "output_type": "stream",
          "name": "stdout",
          "text": [
            "enter either 0 or 1;0\n",
            "you entered 0\n",
            "computer predicted 0\n"
          ]
        }
      ]
    },
    {
      "cell_type": "markdown",
      "metadata": {
        "id": "nyhzrlAJ1ImW"
      },
      "source": [
        "**So we have created a very simple algorithm in which a player enters either `0` or `1` and the computer predicts `0` and `1` randomly.**\n",
        "\n",
        "<br/>\n",
        "\n",
        "$$\\color{red}{\\underline{{\\textrm{In the subsequent classes, we will add the following functionalities to our algorithm:}}}}$$\n",
        "\n",
        "<center>\n",
        "<img src=\"https://curriculum.whitehatjr.com/APT+Asset/boy_new.png\"/></center>\n",
        "\n",
        "<br/>\n",
        "\n",
        "Additionally, we will improve the algorithm so that the computer can predict player moves accurately.\n",
        "\n",
        "Our program is making random predictions for now. But in the subsequent classes, we will learn how to enable the computer to make accurate predictions based on the previous inputs entered by a player in the game.\n"
      ]
    },
    {
      "cell_type": "markdown",
      "metadata": {
        "id": "Pu86T_jToJ2z"
      },
      "source": [
        "---"
      ]
    },
    {
      "cell_type": "markdown",
      "metadata": {
        "id": "IofSZ1-n6BHu"
      },
      "source": [
        "### Wrap-Up Quiz\n",
        "\n",
        "<img src=\"https://curriculum.whitehatjr.com/APT+Asset/Final+C1+images/Q1.png\"/>\n",
        "\n",
        "---\n",
        "<br/>\n",
        "\n",
        "\n",
        "<img src=\"https://curriculum.whitehatjr.com/APT+Asset/Final+C1+images/Q2.PNG\"/>\n",
        "\n",
        "---\n",
        "<br/>\n",
        "\n",
        "<img src=\"https://curriculum.whitehatjr.com/APT+Asset/Final+C1+images/Q3.PNG\"/>\n"
      ]
    },
    {
      "cell_type": "markdown",
      "metadata": {
        "id": "KmjMT_ju-f9K"
      },
      "source": [
        "---"
      ]
    },
    {
      "cell_type": "markdown",
      "metadata": {
        "id": "WNB6-VTyDk8R"
      },
      "source": [
        "### **Project**\n",
        "\n",
        "You can now attempt the **Applied Tech. Project 1 - Variables &\n",
        "Data-Types** on your own.\n",
        "\n",
        "\n",
        "**Applied Tech. Project 1 - Variables &\n",
        "Data-Types**: https://colab.research.google.com/drive/1tDpcC4RFE-ux53Q0ZM6ai7R9GhObvXQF"
      ]
    },
    {
      "cell_type": "markdown",
      "metadata": {
        "id": "KXnGFRFzDkfC"
      },
      "source": [
        "---"
      ]
    },
    {
      "cell_type": "markdown",
      "metadata": {
        "id": "Og5x-0qmoK8D"
      },
      "source": [
        "### Fun Fact\n",
        "\n",
        "One of the cool things about Jupyter notebook is that you don't always have to use the `print()` function to get an output. Let's say you want to print the value stored in a variable without using the `print()` function, then you simply have to write the variable at the end of the code in a code cell."
      ]
    },
    {
      "cell_type": "code",
      "metadata": {
        "id": "zO3rA3M5lf0d"
      },
      "source": [
        "# Student Action: Create a variable called 'game_name' and store the value 'Mind Reader Game' in it. \n",
        "# Print the value stored in the 'game_name' variable without using the 'print()' function.\n"
      ],
      "execution_count": null,
      "outputs": []
    },
    {
      "cell_type": "markdown",
      "metadata": {
        "id": "0PIfbKuHl1qX"
      },
      "source": [
        "This functionality is not available in any other software for writing Python codes."
      ]
    },
    {
      "cell_type": "markdown",
      "metadata": {
        "id": "mBZsIflh5viR"
      },
      "source": [
        "---"
      ]
    }
  ]
}